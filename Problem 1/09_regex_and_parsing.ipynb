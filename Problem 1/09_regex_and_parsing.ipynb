{
 "cells": [
  {
   "cell_type": "markdown",
   "metadata": {},
   "source": [
    "#### REGEX AND PARSING CHALLENGES"
   ]
  },
  {
   "cell_type": "code",
   "execution_count": null,
   "metadata": {},
   "outputs": [],
   "source": [
    "# Detect Floating Point Number\n",
    "\n",
    "import re\n",
    "\n",
    "n = int(input())\n",
    "\n",
    "for _ in range(n):\n",
    "    s = input()\n",
    "    print(bool(re.match(r'^[-+]?[0-9]*\\.[0-9]+$', s)))"
   ]
  },
  {
   "cell_type": "code",
   "execution_count": null,
   "metadata": {},
   "outputs": [],
   "source": [
    "# Re.split()\n",
    "\n",
    "regex_pattern = r\"[,.]+\"\t# Do not delete 'r'.\n",
    "\n",
    "import re\n",
    "print(\"\\n\".join(re.split(regex_pattern, input())))"
   ]
  },
  {
   "cell_type": "code",
   "execution_count": null,
   "metadata": {},
   "outputs": [],
   "source": [
    "# Group(), Groups() & Groupdict()\n",
    "\n",
    "import re\n",
    "\n",
    "s = input()\n",
    "m = re.search(r'([a-zA-Z0-9])\\1', s)\n",
    "\n",
    "if m:\n",
    "    print(m.group(1))\n",
    "else:\n",
    "    print(-1)"
   ]
  },
  {
   "cell_type": "code",
   "execution_count": null,
   "metadata": {},
   "outputs": [],
   "source": [
    "# Re.findall() & Re.finditer()\n",
    "\n",
    "import re\n",
    "\n",
    "s = input()\n",
    "matches = re.findall(r'(?<=[^aeiouAEIOU])([aeiouAEIOU]{2,})(?=[^aeiouAEIOU])', s)\n",
    "\n",
    "if matches:\n",
    "    print(\"\\n\".join(matches))\n",
    "else:\n",
    "    print(-1)"
   ]
  },
  {
   "cell_type": "code",
   "execution_count": null,
   "metadata": {},
   "outputs": [],
   "source": [
    "# Re.start() & Re.end()\n",
    "\n",
    "import re\n",
    "\n",
    "s = input()\n",
    "k = input()\n",
    "matches = list(re.finditer(r'(?={})'.format(re.escape(k)), s))\n",
    "\n",
    "if not matches:\n",
    "    print((-1, -1))\n",
    "else:\n",
    "    for match in matches:\n",
    "        print((match.start(), match.start() + len(k) - 1))"
   ]
  },
  {
   "cell_type": "code",
   "execution_count": null,
   "metadata": {},
   "outputs": [],
   "source": [
    "# Regex Substitution\n",
    "\n",
    "import re\n",
    "\n",
    "def substitute(s):\n",
    "    s = re.sub(r'(?<= )(&&)(?= )', 'and', s)\n",
    "    s = re.sub(r'(?<= )(\\|\\|)(?= )', 'or', s)\n",
    "    return s\n",
    "\n",
    "n = int(input())\n",
    "for _ in range(n):\n",
    "    print(substitute(input()))"
   ]
  },
  {
   "cell_type": "code",
   "execution_count": null,
   "metadata": {},
   "outputs": [],
   "source": [
    "# Validating Roman Numerals\n",
    "\n",
    "regex_pattern = r\"^(M{0,3})(CM|CD|D?C{0,3})(XC|XL|L?X{0,3})(IX|IV|V?I{0,3})$\"\n",
    "\n",
    "import re\n",
    "print(str(bool(re.match(regex_pattern, input()))))"
   ]
  },
  {
   "cell_type": "code",
   "execution_count": null,
   "metadata": {},
   "outputs": [],
   "source": [
    "# Validating phone numbers\n",
    "\n",
    "import re\n",
    "\n",
    "def validate_phone_number(phone):\n",
    "    pattern = r'^[789]\\d{9}$'\n",
    "    return bool(re.match(pattern, phone))\n",
    "\n",
    "n = int(input()) #phone number\n",
    "for _ in range(n):\n",
    "    phone_number = input().strip()\n",
    "    if validate_phone_number(phone_number):\n",
    "        print(\"YES\")\n",
    "    else:\n",
    "        print(\"NO\")\n"
   ]
  },
  {
   "cell_type": "code",
   "execution_count": null,
   "metadata": {},
   "outputs": [],
   "source": [
    "# Validating and Parsing Email Addresses\n",
    "\n",
    "import re\n",
    "import email.utils\n",
    "\n",
    "email_pattern = r'^[a-zA-Z][a-zA-Z0-9_.-]*@[a-zA-Z]+\\.[a-zA-Z]{1,3}$'\n",
    "\n",
    "def is_valid_email(email):\n",
    "    return bool(re.match(email_pattern, email))\n",
    "    \n",
    "n = int(input())\n",
    "for _ in range(n):\n",
    "    parsed_name, parsed_email = email.utils.parseaddr(input().strip())\n",
    "    if is_valid_email(parsed_email):\n",
    "        print(email.utils.formataddr((parsed_name, parsed_email)))"
   ]
  },
  {
   "cell_type": "code",
   "execution_count": null,
   "metadata": {},
   "outputs": [],
   "source": [
    "# Hex Color Code\n",
    "\n"
   ]
  },
  {
   "cell_type": "code",
   "execution_count": null,
   "metadata": {},
   "outputs": [],
   "source": [
    "# HTML Parser - Part 1\n",
    "\n"
   ]
  },
  {
   "cell_type": "code",
   "execution_count": null,
   "metadata": {},
   "outputs": [],
   "source": [
    "# HTML Parser - Part 2\n",
    "\n"
   ]
  },
  {
   "cell_type": "code",
   "execution_count": null,
   "metadata": {},
   "outputs": [],
   "source": [
    "# Detect HTML Tags, Attributes and Attribute Values\n",
    "\n"
   ]
  },
  {
   "cell_type": "code",
   "execution_count": null,
   "metadata": {},
   "outputs": [],
   "source": [
    "# Validating UID\n",
    "\n"
   ]
  },
  {
   "cell_type": "code",
   "execution_count": null,
   "metadata": {},
   "outputs": [],
   "source": [
    "# Validating Credit Card Numbers\n",
    "\n"
   ]
  },
  {
   "cell_type": "code",
   "execution_count": null,
   "metadata": {},
   "outputs": [],
   "source": [
    "# Validating Postal Codes\n",
    "\n"
   ]
  },
  {
   "cell_type": "code",
   "execution_count": null,
   "metadata": {},
   "outputs": [],
   "source": [
    "# Matrix Script\n",
    "\n"
   ]
  }
 ],
 "metadata": {
  "kernelspec": {
   "display_name": "Python 3",
   "language": "python",
   "name": "python3"
  },
  "language_info": {
   "name": "python",
   "version": "3.10.12"
  }
 },
 "nbformat": 4,
 "nbformat_minor": 2
}

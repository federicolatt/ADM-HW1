{
 "cells": [
  {
   "cell_type": "markdown",
   "metadata": {},
   "source": [
    "#### PYTHON FUNCTIONALS"
   ]
  },
  {
   "cell_type": "code",
   "execution_count": null,
   "metadata": {},
   "outputs": [],
   "source": [
    "# Map and Lambda Function\n",
    "\n",
    "cube = lambda x:x**3\n",
    "\n",
    "def fibonacci(n): #returns a list of fibonacci numbers\n",
    "    fib = [0,1] \n",
    "    for i in range(2, n):\n",
    "        fib.append(fib[-1]+fib[-2]) # the next added number is the sum of the current last 2\n",
    "    return fib[:n]\n",
    "    \n",
    "\n",
    "if __name__ == '__main__':\n",
    "    n = int(input())\n",
    "    print(list(map(cube, fibonacci(n))))"
   ]
  }
 ],
 "metadata": {
  "kernelspec": {
   "display_name": "Python 3",
   "language": "python",
   "name": "python3"
  },
  "language_info": {
   "name": "python",
   "version": "3.10.12"
  }
 },
 "nbformat": 4,
 "nbformat_minor": 2
}

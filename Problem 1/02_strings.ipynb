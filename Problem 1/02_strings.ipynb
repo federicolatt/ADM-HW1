{
 "cells": [
  {
   "cell_type": "markdown",
   "metadata": {},
   "source": [
    "#### STRINGS"
   ]
  },
  {
   "cell_type": "code",
   "execution_count": null,
   "metadata": {},
   "outputs": [],
   "source": [
    "# sWAP cASE\n",
    "\n",
    "def swap_case(s):\n",
    "    s1 = ''\n",
    "    for c in s:\n",
    "        if c>='a' and c<='z':\n",
    "            s1 += chr(ord(c)-32)\n",
    "        elif c>='A' and c<='Z':\n",
    "            s1 += chr(ord(c)+32)\n",
    "        else:\n",
    "            s1 += c\n",
    "    return s1\n",
    "\n",
    "swap_case('HackerRank.com presents \"Pythonist 2\".')"
   ]
  },
  {
   "cell_type": "code",
   "execution_count": null,
   "metadata": {},
   "outputs": [],
   "source": [
    "# String Split and Join\n",
    "\n",
    "def split_and_join(line):\n",
    "    return \"-\".join(line.split(\" \"))\n",
    "\n",
    "split_and_join(\"this is a string\")"
   ]
  },
  {
   "cell_type": "code",
   "execution_count": null,
   "metadata": {},
   "outputs": [],
   "source": [
    "# What's Your Name?\n",
    "\n",
    "def print_full_name(first, last):\n",
    "    print(f\"Hello {first} {last}! You just delved into python.\")"
   ]
  },
  {
   "cell_type": "code",
   "execution_count": null,
   "metadata": {},
   "outputs": [],
   "source": [
    "# Mutations\n",
    "\n",
    "def mutate_string(string, position, character):\n",
    "    return string[:position] + character + string[position+1:]"
   ]
  },
  {
   "cell_type": "code",
   "execution_count": null,
   "metadata": {},
   "outputs": [],
   "source": [
    "# Find a string\n",
    "\n",
    "def count_substring(string, sub_string):\n",
    "    c = 0\n",
    "    i = 0\n",
    "    j = i+len(sub_string)\n",
    "    while(j<=len(string)):\n",
    "        if string[i:j] == sub_string:\n",
    "            c+=1\n",
    "        i+=1\n",
    "        j+=1\n",
    "    return c"
   ]
  },
  {
   "cell_type": "code",
   "execution_count": null,
   "metadata": {},
   "outputs": [],
   "source": [
    "# String Validators\n",
    "\n",
    "if __name__ == '__main__':\n",
    "    s = input()\n",
    "    alnum = False\n",
    "    alpha = False\n",
    "    digit = False\n",
    "    lower = False\n",
    "    upper = False\n",
    "    for c in s:\n",
    "        if c.isalnum():\n",
    "            alnum = True\n",
    "        if c.isalpha():\n",
    "            alpha = True\n",
    "        if c.isdigit():\n",
    "            digit = True\n",
    "        if c.islower():\n",
    "            lower = True\n",
    "        if c.isupper():\n",
    "            upper = True\n",
    "    print(alnum)\n",
    "    print(alpha)\n",
    "    print(digit)\n",
    "    print(lower)\n",
    "    print(upper)"
   ]
  },
  {
   "cell_type": "code",
   "execution_count": null,
   "metadata": {},
   "outputs": [],
   "source": [
    "# Text Alignment\n",
    "\n",
    "thickness = int(input())\n",
    "c = 'H'\n",
    "for i in range(thickness):\n",
    "    print((c*i).rjust(thickness-1) + c + (c*i).ljust(thickness-1))\n",
    "for i in range(thickness + 1):\n",
    "    print((c*thickness).center(thickness*2) + (c*thickness).center(thickness*6))\n",
    "for i in range((thickness + 1) // 2):\n",
    "    print((c*thickness*5).center(thickness*6))\n",
    "for i in range(thickness + 1):\n",
    "    print((c*thickness).center(thickness*2) + (c*thickness).center(thickness*6))\n",
    "for i in range(thickness):\n",
    "    print(((c*(thickness-i-1)).rjust(thickness) + c + (c*(thickness-i-1)).ljust(thickness)).rjust(thickness*6))"
   ]
  },
  {
   "cell_type": "code",
   "execution_count": null,
   "metadata": {},
   "outputs": [],
   "source": [
    "# Text Wrap\n",
    "\n",
    "def wrap(string, max_width):\n",
    "    string = list(string)\n",
    "    string = [string[i:i+max_width] for i in range(0,len(string),max_width)]\n",
    "    string = [\"\".join(s) for s in string]\n",
    "    return \"\\n\".join(string)"
   ]
  },
  {
   "cell_type": "code",
   "execution_count": null,
   "metadata": {},
   "outputs": [],
   "source": [
    "# Designer Door Mat\n",
    "\n",
    "n,m = map(int, input().split())\n",
    "\n",
    "for i in range(int(n/2)):\n",
    "    print(('.|.'*i).rjust(int(m/2)-1, '-') + '.|.' + ('.|.'*i).ljust(int(m/2)-1, '-'))\n",
    "print('WELCOME'.center(m, '-'))\n",
    "for i in range(int(n/2)-1,-1,-1):\n",
    "    print(('.|.'*i).rjust(int(m/2)-1, '-') + '.|.' + ('.|.'*i).ljust(int(m/2)-1, '-'))\n",
    "    "
   ]
  },
  {
   "cell_type": "code",
   "execution_count": null,
   "metadata": {},
   "outputs": [],
   "source": [
    "# String Formatting\n",
    "\n",
    "def print_formatted(number):\n",
    "    string = ''\n",
    "    for i in range(1, number+1):\n",
    "        o = oct(i)[2:]\n",
    "        h = hex(i)[2:]\n",
    "        b = bin(i)[2:]\n",
    "        string += f'{str(i).rjust(len(bin(number)[2:]))} {str(o).rjust(len(bin(number)[2:]))} {str(h).rjust(len(bin(number)[2:])).upper()} {str(b).rjust(len(bin(number)[2:]))}\\n'\n",
    "    print(string)\n",
    "    return string\n",
    "\n"
   ]
  },
  {
   "cell_type": "code",
   "execution_count": null,
   "metadata": {},
   "outputs": [],
   "source": [
    "# Alphabet Rangoli\n",
    "\n",
    "def print_rangoli(size):\n",
    "    alphabet = 'abcdefghijklmnopqrstuvwxyz'\n",
    "    string = []\n",
    "    for i in range(size):\n",
    "        if i<size-1:\n",
    "            left_string = '-'.join(alphabet[size-1:i:-1])\n",
    "            right_string = '-'.join(alphabet[i:size])\n",
    "            row = (left_string + '-' + right_string).center(4*size-3, '-')\n",
    "        else:\n",
    "            row = alphabet[size-1].center(4*size-3,'-') # rows with only one letter\n",
    "        string.append(row)\n",
    "\n",
    "    print(\"\\n\".join(string[::-1] + string[1:]))"
   ]
  },
  {
   "cell_type": "code",
   "execution_count": null,
   "metadata": {},
   "outputs": [],
   "source": [
    "# Capitalize!\n",
    "\n",
    "def solve(s):\n",
    "    full_name = s.split(' ')\n",
    "    full_name = [x.capitalize() for x in full_name]\n",
    "    return \" \".join(full_name)"
   ]
  },
  {
   "cell_type": "code",
   "execution_count": null,
   "metadata": {},
   "outputs": [],
   "source": [
    "# The Minion Game\n",
    "\n",
    "def minion_game(string):\n",
    "    vowels = 'AEIOU'\n",
    "    kevin = 0 #vowels\n",
    "    stuart = 0 #consonants\n",
    "\n",
    "    for i in range(len(s)):\n",
    "        if s[i] in vowels:\n",
    "            kevin += len(s)-i\n",
    "        else:\n",
    "            stuart += len(s)-i\n",
    "        \n",
    "    if kevin>stuart:\n",
    "        print('Kevin',str(kevin))\n",
    "    elif stuart>kevin:\n",
    "        print('Stuart',str(stuart))\n",
    "    else:\n",
    "        print('Draw') \n",
    "        "
   ]
  },
  {
   "cell_type": "code",
   "execution_count": null,
   "metadata": {},
   "outputs": [],
   "source": [
    "# Merge the Tools!\n",
    "\n",
    "def merge_the_tools(string, k):\n",
    "    a = [string[i:i+k] for i in range(0,len(string),k)] #string divided in n/k block of len k\n",
    "    block = []\n",
    "    for i in range(len(a)):\n",
    "        sub = ''\n",
    "        for c in a[i]:\n",
    "            if c not in sub:\n",
    "                sub += c\n",
    "            else:\n",
    "                continue\n",
    "        block.append(sub)\n",
    "    print('\\n'.join(block))"
   ]
  }
 ],
 "metadata": {
  "language_info": {
   "name": "python"
  }
 },
 "nbformat": 4,
 "nbformat_minor": 2
}

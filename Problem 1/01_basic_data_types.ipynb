{
 "cells": [
  {
   "cell_type": "markdown",
   "metadata": {},
   "source": [
    "#### BASIC DATA TYPES"
   ]
  },
  {
   "cell_type": "code",
   "execution_count": null,
   "metadata": {},
   "outputs": [],
   "source": [
    "# List Comprehensions\n",
    "\n",
    "if __name__ == '__main__':\n",
    "    x = int(input())\n",
    "    y = int(input())\n",
    "    z = int(input())\n",
    "    n = int(input())\n",
    "    print([[i,j,k] for i in range(x+1) for j in range(y+1) for k in range(z+1) if i+j+k!=n])"
   ]
  },
  {
   "cell_type": "code",
   "execution_count": null,
   "metadata": {},
   "outputs": [],
   "source": [
    "# Find the Runner-Up Score!\n",
    "\n",
    "if __name__ == '__main__':\n",
    "    n = int(input())\n",
    "    arr = map(int, input().split())\n",
    "    arr = list(arr)\n",
    "    m = max(arr)\n",
    "    print(max([x for x in arr if x!=m]))"
   ]
  },
  {
   "cell_type": "code",
   "execution_count": null,
   "metadata": {},
   "outputs": [],
   "source": [
    "# Nested Lists\n",
    "\n",
    "if __name__ == '__main__':\n",
    "    a = list()\n",
    "    scores = list()\n",
    "    for _ in range(int(input())):\n",
    "        name = input()\n",
    "        score = float(input())\n",
    "        scores.append(score)\n",
    "        a.append([name, score])\n",
    "    a = [[a[i][0], a[i][1]] for i in range(len(a)) if a[i][1]!=min(scores)]\n",
    "    # a don't contains anymore student(s) with min score(s)\n",
    "    second_min_score = min([a[i][1] for i in range(len(a))])\n",
    "    sol = sorted([a[i][0] for i in range(len(a)) if a[i][1]==second_min_score])\n",
    "    for element in sol:\n",
    "        print(element)"
   ]
  },
  {
   "cell_type": "code",
   "execution_count": null,
   "metadata": {},
   "outputs": [],
   "source": [
    "# Finding the percentage\n",
    "\n",
    "if __name__ == '__main__':\n",
    "    n = int(input())\n",
    "    student_marks = {}\n",
    "    for _ in range(n):\n",
    "        name, *line = input().split()\n",
    "        scores = list(map(float, line))\n",
    "        student_marks[name] = scores\n",
    "    query_name = input()\n",
    "    if query_name in student_marks.keys():\n",
    "        avg = sum(student_marks[query_name]) / len(student_marks[query_name])\n",
    "        print(f\"{avg:.2f}\")\n",
    "    else:\n",
    "        print(\"The inserted name, is invalid\")"
   ]
  },
  {
   "cell_type": "code",
   "execution_count": null,
   "metadata": {},
   "outputs": [],
   "source": [
    "# Lists\n",
    "\n",
    "if __name__ == '__main__':\n",
    "    N = int(input())\n",
    "    l = list()\n",
    "    for i in range(N):\n",
    "        command = input().strip().split()\n",
    "        if command[0] == \"insert\":\n",
    "            l.insert(int(command[1]), int(command[2]))\n",
    "        elif command[0] == \"print\":\n",
    "            print(l)\n",
    "        elif command[0] == \"remove\":\n",
    "            l.remove(int(command[1]))\n",
    "        elif command[0] == \"append\":\n",
    "            l.append(int(command[1]))\n",
    "        elif command[0] == \"sort\":\n",
    "            l.sort()\n",
    "        elif command[0] == \"pop\":\n",
    "            l.pop()\n",
    "        elif command[0] == \"reverse\":\n",
    "            l.reverse()"
   ]
  },
  {
   "cell_type": "code",
   "execution_count": null,
   "metadata": {},
   "outputs": [],
   "source": [
    "# Tuples\n",
    "\n",
    "if __name__ == '__main__':\n",
    "    n = int(input())\n",
    "    integer_list = map(int, input().split())\n",
    "    print(hash(tuple(integer_list)))"
   ]
  }
 ],
 "metadata": {
  "language_info": {
   "name": "python"
  }
 },
 "nbformat": 4,
 "nbformat_minor": 2
}

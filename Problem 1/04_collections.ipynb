{
 "cells": [
  {
   "cell_type": "markdown",
   "metadata": {},
   "source": [
    "#### COLLECTIONS"
   ]
  },
  {
   "cell_type": "code",
   "execution_count": null,
   "metadata": {},
   "outputs": [],
   "source": [
    "# collections.Counter()\n",
    "\n",
    "from collections import Counter\n",
    "\n",
    "x = int(input())\n",
    "shoe_sizes = dict(Counter(input().split()))\n",
    "n = int(input()) # number of customers\n",
    "\n",
    "earnings = 0\n",
    "for _ in range(n):\n",
    "    y = input().split()\n",
    "    size, cost = y[0], int(y[1])\n",
    "    if size in shoe_sizes.keys() and shoe_sizes[size]>0:\n",
    "        earnings += cost\n",
    "        shoe_sizes[size] -= 1\n",
    "print(earnings)"
   ]
  },
  {
   "cell_type": "code",
   "execution_count": null,
   "metadata": {},
   "outputs": [],
   "source": [
    "# DefaultDict Tutorial\n",
    "\n",
    "from collections import defaultdict\n",
    "\n",
    "d = defaultdict(list)\n",
    "n, m = map(int, input().split())\n",
    "\n",
    "for i in range(1, n + 1): #words belonging to group A\n",
    "    word_a = input()\n",
    "    d[word_a].append(i)\n",
    "\n",
    "for _ in range(m):\n",
    "    word_b = input()\n",
    "    if word_b in d:\n",
    "        print(' '.join(map(str, d[word_b])))  #prints the 1-based indexes\n",
    "    else:\n",
    "        print('-1')"
   ]
  },
  {
   "cell_type": "code",
   "execution_count": null,
   "metadata": {},
   "outputs": [],
   "source": [
    "# Collections.namedtuple()\n",
    "\n",
    "from collections import namedtuple\n",
    "\n",
    "n = int(input()) #total number of students\n",
    "cols = input().split()\n",
    "Student = namedtuple('Student', cols)\n",
    "tot = 0\n",
    "\n",
    "for _ in range(n):\n",
    "    C1,C2,C3,C4 = input().split()\n",
    "    s = Student(C1,C2,C3,C4)\n",
    "    tot += int(s.MARKS)\n",
    "avg = tot/n\n",
    "print(f\"{avg:.2f}\")"
   ]
  },
  {
   "cell_type": "code",
   "execution_count": null,
   "metadata": {},
   "outputs": [],
   "source": [
    "# Collections.OrderedDict()\n",
    "\n",
    "from collections import OrderedDict\n",
    "\n",
    "d = OrderedDict()\n",
    "\n",
    "n = int(input()) # number of items\n",
    "for _ in range(n):\n",
    "    item_name, _, net_price = input().rpartition(' ')\n",
    "    if item_name in d.keys():\n",
    "        d[item_name] += int(net_price)\n",
    "    else:\n",
    "        d[item_name] = int(net_price)\n",
    "    \n",
    "for k,v in d.items():\n",
    "    print(k,v)"
   ]
  },
  {
   "cell_type": "code",
   "execution_count": null,
   "metadata": {},
   "outputs": [],
   "source": [
    "# Word Order\n",
    "\n",
    "from collections import OrderedDict\n",
    "\n",
    "d = OrderedDict()\n",
    "n = int(input())\n",
    "for _ in range(n):\n",
    "    word = input()\n",
    "    if word in d.keys():\n",
    "        d[word] += 1\n",
    "    else:\n",
    "        d[word] = 1\n",
    "\n",
    "print(len(d.keys()))\n",
    "print(' '.join(map(str, d.values())))"
   ]
  },
  {
   "cell_type": "code",
   "execution_count": null,
   "metadata": {},
   "outputs": [],
   "source": [
    "# Collections.deque()\n",
    "\n",
    "from collections import deque\n",
    "\n",
    "d = deque()\n",
    "\n",
    "n = int(input()) #number of operations\n",
    "for _ in range(n):\n",
    "    x = input().split()\n",
    "    cmd = x[0]\n",
    "    if len(x)>1:\n",
    "        value = int(x[1])\n",
    "    if cmd=='append':\n",
    "        d.append(value)\n",
    "    elif cmd=='appendleft':\n",
    "        d.appendleft(value)\n",
    "    elif cmd=='pop':\n",
    "        d.pop()\n",
    "    elif cmd=='popleft':\n",
    "        d.popleft()\n",
    "        \n",
    "print(' '.join(map(str,d)))"
   ]
  },
  {
   "cell_type": "code",
   "execution_count": null,
   "metadata": {},
   "outputs": [],
   "source": [
    "# Company Logo\n",
    "\n",
    "#!/bin/python3\n",
    "\n",
    "import math\n",
    "import os\n",
    "import random\n",
    "import re\n",
    "import sys\n",
    "from collections import Counter\n",
    "\n",
    "if __name__ == '__main__':\n",
    "    s = input().strip()\n",
    "    freq = Counter(s)\n",
    "    sorted_freq = sorted(freq.items(), key=lambda x: (-x[1], x[0])) #sort by frequency first in descending order and then by alphabet (ascending)\n",
    "    for char, count in sorted_freq[:3]: #print only the first 3 couples (char, count), the most frequent\n",
    "        print(char, count)"
   ]
  },
  {
   "cell_type": "code",
   "execution_count": null,
   "metadata": {},
   "outputs": [],
   "source": [
    "# Piling Up!\n",
    "\n",
    "from collections import deque\n",
    "\n",
    "def stackable(cubes):\n",
    "    d = deque(cubes)\n",
    "    top = float('inf')\n",
    "    while d:\n",
    "        if d[0] >= d[-1]:\n",
    "            current = d.popleft()\n",
    "        else:\n",
    "            current = d.pop() #takes the max between current first and last element\n",
    "        if current > top:\n",
    "            return \"No\"\n",
    "        top = current #update the pile top   \n",
    "    return \"Yes\"\n",
    "\n",
    "if __name__ == '__main__':\n",
    "    t = int(input())\n",
    "    for _ in range(t):\n",
    "        n = int(input())\n",
    "        cubes = list(map(int, input().split()))\n",
    "        print(stackable(cubes))\n",
    "\n"
   ]
  }
 ],
 "metadata": {
  "kernelspec": {
   "display_name": "Python 3",
   "language": "python",
   "name": "python3"
  },
  "language_info": {
   "codemirror_mode": {
    "name": "ipython",
    "version": 3
   },
   "file_extension": ".py",
   "mimetype": "text/x-python",
   "name": "python",
   "nbconvert_exporter": "python",
   "pygments_lexer": "ipython3",
   "version": "3.12.3"
  }
 },
 "nbformat": 4,
 "nbformat_minor": 2
}

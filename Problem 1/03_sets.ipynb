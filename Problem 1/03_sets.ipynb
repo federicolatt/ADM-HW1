{
 "cells": [
  {
   "cell_type": "markdown",
   "metadata": {},
   "source": [
    "#### SETS"
   ]
  },
  {
   "cell_type": "code",
   "execution_count": null,
   "metadata": {},
   "outputs": [],
   "source": [
    "# Introduction to Sets\n",
    "\n",
    "def average(array):\n",
    "    s = set(array)\n",
    "    s = sum(s)/len(s)\n",
    "    return f\"{s:.3f}\""
   ]
  },
  {
   "cell_type": "code",
   "execution_count": null,
   "metadata": {},
   "outputs": [],
   "source": [
    "# No Idea!\n",
    "\n",
    "n,m  = input().split(' ')\n",
    "array = input().split(' ')\n",
    "a = set(input().split(' '))\n",
    "b = set(input().split(' '))\n",
    "happiness = 0\n",
    "\n",
    "for x in array:\n",
    "    if x in a:\n",
    "        happiness += 1\n",
    "    elif x in b:\n",
    "        happiness -= 1\n",
    "    else:\n",
    "        continue\n",
    "        \n",
    "print(happiness)"
   ]
  },
  {
   "cell_type": "code",
   "execution_count": null,
   "metadata": {},
   "outputs": [],
   "source": [
    "# Symmetric Difference\n",
    "\n",
    "m = input()\n",
    "m_ints = set(input().split())\n",
    "n = input()\n",
    "n_ints = set(input().split())\n",
    "\n",
    "l = m_ints.difference(n_ints).union(n_ints.difference(m_ints))\n",
    "l = sorted(list(map(int, l)))\n",
    "\n",
    "print('\\n'.join(map(str,l)))"
   ]
  },
  {
   "cell_type": "code",
   "execution_count": null,
   "metadata": {},
   "outputs": [],
   "source": [
    "# Set .add()\n",
    "\n",
    "n = int(input())\n",
    "countries = set()\n",
    "\n",
    "for _ in range(n):\n",
    "    countries.add(input())\n",
    "    \n",
    "print(len(countries))"
   ]
  },
  {
   "cell_type": "code",
   "execution_count": null,
   "metadata": {},
   "outputs": [],
   "source": [
    "# Set .discard(), .remove() & .pop()\n",
    "\n",
    "n = int(input()) # number of elements of s\n",
    "s = set(map(int, input().split()))\n",
    "nc = int(input()) # number of commands\n",
    "\n",
    "for _ in range(nc):\n",
    "    c = input().split()\n",
    "    if c[0]=='pop':\n",
    "        try:\n",
    "            s.pop()\n",
    "        except KeyError:\n",
    "            pass\n",
    "    elif c[0]=='remove':\n",
    "        try:\n",
    "            s.remove(int(c[1]))\n",
    "        except KeyError:\n",
    "            pass\n",
    "    elif c[0]=='discard':\n",
    "        s.discard(int(c[1]))\n",
    "    else:\n",
    "        continue\n",
    "            \n",
    "print(sum(s))"
   ]
  },
  {
   "cell_type": "code",
   "execution_count": null,
   "metadata": {},
   "outputs": [],
   "source": [
    "# Set .union() Operation\n",
    "\n",
    "n = int(input()) # students subriscribed to eng news\n",
    "n_studs = set(input().split())\n",
    "b = int(input()) # students subriscribed to french news\n",
    "b_studs = set(input().split())\n",
    "\n",
    "print(len(n_studs.union(b_studs)))"
   ]
  },
  {
   "cell_type": "code",
   "execution_count": null,
   "metadata": {},
   "outputs": [],
   "source": [
    "# Set .intersection() Operation\n",
    "\n",
    "n = int(input()) # students subriscribed to eng news\n",
    "n_studs = set(input().split())\n",
    "b = int(input()) # students subriscribed to french news\n",
    "b_studs = set(input().split())\n",
    "\n",
    "print(len(n_studs.intersection(b_studs)))"
   ]
  },
  {
   "cell_type": "code",
   "execution_count": null,
   "metadata": {},
   "outputs": [],
   "source": [
    "# Set .difference() Operation\n",
    "\n",
    "n = int(input()) # students subriscribed to eng news\n",
    "n_studs = set(input().split())\n",
    "b = int(input()) # students subriscribed to french news\n",
    "b_studs = set(input().split())\n",
    "\n",
    "print(len(n_studs.difference(b_studs)))"
   ]
  },
  {
   "cell_type": "code",
   "execution_count": null,
   "metadata": {},
   "outputs": [],
   "source": [
    "# Set .symmetric_difference() Operation\n",
    "\n",
    "n = int(input()) # students subriscribed to eng news\n",
    "n_studs = set(input().split())\n",
    "b = int(input()) # students subriscribed to french news\n",
    "b_studs = set(input().split())\n",
    "\n",
    "print(len(n_studs.symmetric_difference(b_studs)))"
   ]
  },
  {
   "cell_type": "code",
   "execution_count": null,
   "metadata": {},
   "outputs": [],
   "source": [
    "# Set Mutations \n",
    "\n",
    "num_a = int(input()) # num of element of a\n",
    "a = set(map(int, input().split()))\n",
    "num_other_sets = int(input()) # num of other sets\n",
    "\n",
    "for i in range(num_other_sets):\n",
    "    x = input().split()\n",
    "    cmd, num_o = x[0], int(x[1])\n",
    "    o = set(map(int, input().split()))\n",
    "    if cmd=='update':\n",
    "        a.update(o)\n",
    "    elif cmd=='intersection_update':\n",
    "        a.intersection_update(o)\n",
    "    elif cmd=='difference_update':\n",
    "        a.difference_update(o)\n",
    "    elif cmd=='symmetric_difference_update':\n",
    "        a.symmetric_difference_update(o)\n",
    "         \n",
    "print(sum(a))"
   ]
  },
  {
   "cell_type": "code",
   "execution_count": null,
   "metadata": {},
   "outputs": [],
   "source": [
    "# The Captain's Room\n",
    "\n",
    "k = int(input())\n",
    "room_numbers = input().split()\n",
    "d = {}\n",
    "\n",
    "for i in range(len(room_numbers)):\n",
    "    x = room_numbers[i]\n",
    "    d[x] = d.get(x, 0) + 1\n",
    "\n",
    "for k,v in d.items():\n",
    "    if v==1:\n",
    "        print(k)\n",
    "    else:\n",
    "        continue"
   ]
  },
  {
   "cell_type": "code",
   "execution_count": null,
   "metadata": {},
   "outputs": [],
   "source": [
    "# Check Subset\n",
    "\n",
    "nt = int(input()) # number of test cases\n",
    "for _ in range(nt):\n",
    "    na = int(input()) # number of elements in a\n",
    "    a = set(input().split())\n",
    "    nb = int(input()) # number of elements in b\n",
    "    b = set(input().split())\n",
    "    \n",
    "    x=True\n",
    "    for el in a:\n",
    "        if el not in b:\n",
    "            x=False\n",
    "            break\n",
    "            \n",
    "    print(x)"
   ]
  },
  {
   "cell_type": "code",
   "execution_count": null,
   "metadata": {},
   "outputs": [],
   "source": [
    "# Check Strict Superset\n",
    "\n",
    "def subset(A,B): # checks if A is a subset of B\n",
    "    x=True\n",
    "    for el in A:\n",
    "        if el not in B:\n",
    "            x=False\n",
    "            break\n",
    "    return x\n",
    "\n",
    "a = set(input().split())\n",
    "n = int(input()) # number of other sets\n",
    "x = True\n",
    "for _ in range(n):\n",
    "    o = set(input().split())\n",
    "    if not(subset(o,a) and len(a.difference(o))>0):\n",
    "        x=False\n",
    "print(x)"
   ]
  }
 ],
 "metadata": {
  "kernelspec": {
   "display_name": "Python 3",
   "language": "python",
   "name": "python3"
  },
  "language_info": {
   "codemirror_mode": {
    "name": "ipython",
    "version": 3
   },
   "file_extension": ".py",
   "mimetype": "text/x-python",
   "name": "python",
   "nbconvert_exporter": "python",
   "pygments_lexer": "ipython3",
   "version": "3.10.12"
  }
 },
 "nbformat": 4,
 "nbformat_minor": 2
}

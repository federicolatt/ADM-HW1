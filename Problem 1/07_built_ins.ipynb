{
 "cells": [
  {
   "cell_type": "markdown",
   "metadata": {},
   "source": [
    "#### BUILT-INS"
   ]
  },
  {
   "cell_type": "code",
   "execution_count": null,
   "metadata": {},
   "outputs": [],
   "source": [
    "# Zipped!\n",
    "\n",
    "n, x = map(int, input().split())\n",
    "grades = [list(map(float, input().split())) for _ in range(x)]\n",
    "\n",
    "for student_grades in zip(*grades): #cluster the grades of each student and iterate on it, instead of iterating on subjects\n",
    "    print(f\"{sum(student_grades) / x:.1f}\")"
   ]
  },
  {
   "cell_type": "code",
   "execution_count": null,
   "metadata": {},
   "outputs": [],
   "source": [
    "# Athlete Sort\n",
    "\n",
    "#!/bin/python3\n",
    "\n",
    "import math\n",
    "import os\n",
    "import random\n",
    "import re\n",
    "import sys\n",
    "\n",
    "if __name__ == '__main__':\n",
    "    num = input().split()\n",
    "\n",
    "    n = int(num[0])\n",
    "    m = int(num[1])\n",
    "    k = int(input())\n",
    "    a = []\n",
    "    a = [list(map(int, input().rstrip().split())) for _ in range(n)]\n",
    "    \n",
    "    a.sort(key=lambda x: x[k]) #sort \"a\" based on column k\n",
    "\n",
    "    for row in a: \n",
    "        print(*row) # *row instead of using ' '.join(a)"
   ]
  },
  {
   "cell_type": "code",
   "execution_count": null,
   "metadata": {},
   "outputs": [],
   "source": [
    "# ginortS\n",
    "\n",
    "s = input()\n",
    "s = sorted(s, key=lambda x:(x.isdigit(), x.isdigit() and int(x) % 2 == 0, x.isupper(), x))\n",
    "print(''.join(s))"
   ]
  }
 ],
 "metadata": {
  "kernelspec": {
   "display_name": "Python 3",
   "language": "python",
   "name": "python3"
  },
  "language_info": {
   "name": "python",
   "version": "3.10.12"
  }
 },
 "nbformat": 4,
 "nbformat_minor": 2
}
